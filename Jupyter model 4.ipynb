{
 "cells": [
  {
   "cell_type": "code",
   "execution_count": 1,
   "id": "96f54b67-61a0-4182-9851-33d0d6e65af3",
   "metadata": {},
   "outputs": [],
   "source": [
    "%reload_ext autoreload\n",
    "%autoreload 0\n",
    "from pathlib import Path\n",
    "import pandas as pd\n",
    "import torch\n",
    "from transformers import AutoTokenizer, AutoModelForSequenceClassification, BertForSequenceClassification, TrainingArguments, Trainer\n",
    "#from fastai import *\n",
    "#from fastai.text.all import *\n",
    "import numpy as np\n",
    "import matplotlib.pyplot as plt\n",
    "from sklearn.model_selection import train_test_split\n",
    "from sklearn.metrics import accuracy_score, precision_score, roc_auc_score, roc_curve, recall_score, f1_score, classification_report\n",
    "from torch.utils.data import Dataset, DataLoader, SequentialSampler\n"
   ]
  },
  {
   "cell_type": "code",
   "execution_count": 2,
   "id": "eaf37084",
   "metadata": {},
   "outputs": [],
   "source": [
    "model_dir = \"/home/sm1073/.cache/huggingface/hub/models--zhihan1996--DNABERT-2-117M/DNABERT-2-117M\"\n",
    "tokenizer = AutoTokenizer.from_pretrained(model_dir, trust_remote_code=True)"
   ]
  },
  {
   "cell_type": "code",
   "execution_count": 3,
   "id": "48ab9e9d",
   "metadata": {},
   "outputs": [
    {
     "name": "stderr",
     "output_type": "stream",
     "text": [
      "/home/sm1073/.cache/huggingface/modules/transformers_modules/DNABERT-2-117M/bert_layers.py:127: UserWarning: Unable to import Triton; defaulting MosaicBERT attention implementation to pytorch (this will reduce throughput when using this model).\n",
      "  warnings.warn(\n",
      "Some weights of BertForSequenceClassification were not initialized from the model checkpoint at /home/sm1073/.cache/huggingface/hub/models--zhihan1996--DNABERT-2-117M/DNABERT-2-117M and are newly initialized: ['bert.pooler.dense.bias', 'bert.pooler.dense.weight', 'classifier.bias', 'classifier.weight']\n",
      "You should probably TRAIN this model on a down-stream task to be able to use it for predictions and inference.\n"
     ]
    }
   ],
   "source": [
    "model = AutoModelForSequenceClassification.from_pretrained(model_dir, trust_remote_code=True)"
   ]
  },
  {
   "cell_type": "code",
   "execution_count": 6,
   "id": "d5d41bbb",
   "metadata": {},
   "outputs": [],
   "source": [
    "path = Path('/home/sm1073/Documents/independent_project/')"
   ]
  },
  {
   "cell_type": "code",
   "execution_count": 7,
   "id": "72a98f53",
   "metadata": {},
   "outputs": [],
   "source": [
    "df = pd.read_csv(path/'x_inactivation_genes.csv')"
   ]
  },
  {
   "cell_type": "code",
   "execution_count": 6,
   "id": "07fa1ab5",
   "metadata": {},
   "outputs": [],
   "source": [
    "train_df, val_df = train_test_split(df, test_size=0.2, random_state=42)"
   ]
  },
  {
   "cell_type": "code",
   "execution_count": 32,
   "id": "4f3dc969",
   "metadata": {},
   "outputs": [],
   "source": [
    "class DNADataset(Dataset):\n",
    "    def __init__(self, dataframe, tokenizer, max_len):\n",
    "        self.tokenizer = tokenizer\n",
    "        self.data = dataframe\n",
    "        self.text = dataframe.Sequence\n",
    "        self.labels = dataframe.Label\n",
    "        self.max_len = max_len\n",
    "\n",
    "    def __len__(self):\n",
    "        return len(self.text)\n",
    "\n",
    "    def __getitem__(self, index):\n",
    "        dna_sequence = str(self.text.iloc[index])\n",
    "        inputs = self.tokenizer(dna_sequence, return_tensors='pt', max_length=self.max_len, padding='max_length', truncation=True)\n",
    "        labels = self.labels.iloc[index]\n",
    "        return {\n",
    "            'input_ids': inputs['input_ids'].flatten(),\n",
    "            'attention_mask': inputs['attention_mask'].flatten(),\n",
    "            'labels': torch.tensor(labels, dtype=torch.long)\n",
    "        }"
   ]
  },
  {
   "cell_type": "code",
   "execution_count": 8,
   "id": "efbf9bd0",
   "metadata": {},
   "outputs": [],
   "source": [
    "training_args = TrainingArguments(\n",
    "    output_dir='./results',\n",
    "    num_train_epochs=3,\n",
    "    per_device_train_batch_size=8,\n",
    "    per_device_eval_batch_size=8,\n",
    "    warmup_steps=500,\n",
    "    weight_decay=0.01,\n",
    "    logging_dir='./logs',\n",
    "    logging_steps=10,\n",
    "    eval_strategy=\"steps\",\n",
    "    eval_steps=50\n",
    ")"
   ]
  },
  {
   "cell_type": "code",
   "execution_count": 9,
   "id": "0fa24e4d",
   "metadata": {},
   "outputs": [],
   "source": [
    "train_dataset = DNADataset(train_df, tokenizer, max_len=512)\n",
    "val_dataset = DNADataset(val_df, tokenizer, max_len=512)\n",
    "\n",
    "trainer = Trainer(\n",
    "    model=model,\n",
    "    args=training_args,\n",
    "    train_dataset=train_dataset,\n",
    "    eval_dataset=val_dataset,\n",
    "    tokenizer=tokenizer\n",
    ")"
   ]
  },
  {
   "cell_type": "code",
   "execution_count": 10,
   "id": "ee3f2244",
   "metadata": {
    "scrolled": true
   },
   "outputs": [
    {
     "data": {
      "text/html": [
       "\n",
       "    <div>\n",
       "      \n",
       "      <progress value='60' max='60' style='width:300px; height:20px; vertical-align: middle;'></progress>\n",
       "      [60/60 20:26, Epoch 3/3]\n",
       "    </div>\n",
       "    <table border=\"1\" class=\"dataframe\">\n",
       "  <thead>\n",
       " <tr style=\"text-align: left;\">\n",
       "      <th>Step</th>\n",
       "      <th>Training Loss</th>\n",
       "      <th>Validation Loss</th>\n",
       "    </tr>\n",
       "  </thead>\n",
       "  <tbody>\n",
       "    <tr>\n",
       "      <td>50</td>\n",
       "      <td>0.673200</td>\n",
       "      <td>0.699614</td>\n",
       "    </tr>\n",
       "  </tbody>\n",
       "</table><p>"
      ],
      "text/plain": [
       "<IPython.core.display.HTML object>"
      ]
     },
     "metadata": {},
     "output_type": "display_data"
    },
    {
     "data": {
      "text/html": [
       "\n",
       "    <div>\n",
       "      \n",
       "      <progress value='5' max='5' style='width:300px; height:20px; vertical-align: middle;'></progress>\n",
       "      [5/5 00:29]\n",
       "    </div>\n",
       "    "
      ],
      "text/plain": [
       "<IPython.core.display.HTML object>"
      ]
     },
     "metadata": {},
     "output_type": "display_data"
    },
    {
     "name": "stdout",
     "output_type": "stream",
     "text": [
      "{'eval_loss': 0.6989232897758484, 'eval_runtime': 34.8368, 'eval_samples_per_second': 1.148, 'eval_steps_per_second': 0.144, 'epoch': 3.0}\n"
     ]
    }
   ],
   "source": [
    "trainer.train()\n",
    "results = trainer.evaluate()\n",
    "print(results)"
   ]
  },
  {
   "cell_type": "code",
   "execution_count": 8,
   "id": "c8d61663-78d6-4fa5-9453-6fc9acfb8ecb",
   "metadata": {},
   "outputs": [],
   "source": [
    "class DNADatasetForPrediction(Dataset):\n",
    "    def __init__(self, dataframe, tokenizer, max_len):\n",
    "        self.tokenizer = tokenizer\n",
    "        self.data = dataframe\n",
    "        self.text = dataframe.Sequence\n",
    "        self.max_len = max_len\n",
    "\n",
    "    def __len__(self):\n",
    "        return len(self.text)\n",
    "\n",
    "    def __getitem__(self, index):\n",
    "        dna_sequence = str(self.text.iloc[index])\n",
    "        inputs = self.tokenizer(dna_sequence, return_tensors='pt', max_length=self.max_len, padding='max_length', truncation=True)\n",
    "        return {\n",
    "            'input_ids': inputs['input_ids'].flatten(),\n",
    "            'attention_mask': inputs['attention_mask'].flatten()\n",
    "        }\n"
   ]
  },
  {
   "cell_type": "code",
   "execution_count": 9,
   "id": "fd3aa1de-ae0c-4b20-a41f-af6f48fba967",
   "metadata": {},
   "outputs": [
    {
     "data": {
      "text/plain": [
       "BertForSequenceClassification(\n",
       "  (bert): BertModel(\n",
       "    (embeddings): BertEmbeddings(\n",
       "      (word_embeddings): Embedding(4096, 768)\n",
       "      (token_type_embeddings): Embedding(2, 768)\n",
       "      (LayerNorm): LayerNorm((768,), eps=1e-12, elementwise_affine=True)\n",
       "      (dropout): Dropout(p=0.1, inplace=False)\n",
       "    )\n",
       "    (encoder): BertEncoder(\n",
       "      (layer): ModuleList(\n",
       "        (0-11): 12 x BertLayer(\n",
       "          (attention): BertUnpadAttention(\n",
       "            (self): BertUnpadSelfAttention(\n",
       "              (dropout): Dropout(p=0.0, inplace=False)\n",
       "              (Wqkv): Linear(in_features=768, out_features=2304, bias=True)\n",
       "            )\n",
       "            (output): BertSelfOutput(\n",
       "              (dense): Linear(in_features=768, out_features=768, bias=True)\n",
       "              (LayerNorm): LayerNorm((768,), eps=1e-12, elementwise_affine=True)\n",
       "              (dropout): Dropout(p=0.1, inplace=False)\n",
       "            )\n",
       "          )\n",
       "          (mlp): BertGatedLinearUnitMLP(\n",
       "            (gated_layers): Linear(in_features=768, out_features=6144, bias=False)\n",
       "            (act): GELU(approximate='none')\n",
       "            (wo): Linear(in_features=3072, out_features=768, bias=True)\n",
       "            (dropout): Dropout(p=0.1, inplace=False)\n",
       "            (layernorm): LayerNorm((768,), eps=1e-12, elementwise_affine=True)\n",
       "          )\n",
       "        )\n",
       "      )\n",
       "    )\n",
       "    (pooler): BertPooler(\n",
       "      (dense): Linear(in_features=768, out_features=768, bias=True)\n",
       "      (activation): Tanh()\n",
       "    )\n",
       "  )\n",
       "  (dropout): Dropout(p=0.1, inplace=False)\n",
       "  (classifier): Linear(in_features=768, out_features=2, bias=True)\n",
       ")"
      ]
     },
     "execution_count": 9,
     "metadata": {},
     "output_type": "execute_result"
    }
   ],
   "source": [
    "#dataset\n",
    "predict_dataset = DNADatasetForPrediction(df, tokenizer, max_len=512)\n",
    "#dataloader\n",
    "predict_dataloader = DataLoader(predict_dataset, sampler=SequentialSampler(predict_dataset), batch_size=8)\n",
    "model.eval()"
   ]
  },
  {
   "cell_type": "code",
   "execution_count": 11,
   "id": "3c9b1d48-070b-4c00-876c-d30255691542",
   "metadata": {},
   "outputs": [],
   "source": [
    "predictions = []\n",
    "with torch.no_grad():\n",
    "    for batch in predict_dataloader:\n",
    "        inputs = {\n",
    "            'input_ids': batch['input_ids'],\n",
    "            'attention_mask': batch['attention_mask']\n",
    "        }\n",
    "        outputs = model(**inputs)\n",
    "        logits = outputs.logits\n",
    "        predictions.extend(torch.softmax(logits, dim=1).cpu().numpy())\n",
    "\n",
    "predictions = np.array(predictions)\n",
    "pred_labels = np.argmax(predictions, axis=1)"
   ]
  },
  {
   "cell_type": "code",
   "execution_count": 12,
   "id": "b372fde8-ec1a-4f7a-add3-7d78409870a6",
   "metadata": {},
   "outputs": [
    {
     "name": "stdout",
     "output_type": "stream",
     "text": [
      "[[0.4706802  0.5293198 ]\n",
      " [0.48412517 0.51587486]\n",
      " [0.48742598 0.512574  ]\n",
      " [0.4395312  0.5604688 ]\n",
      " [0.4512605  0.5487395 ]\n",
      " [0.49201408 0.5079859 ]\n",
      " [0.46515706 0.5348429 ]\n",
      " [0.48763275 0.5123672 ]\n",
      " [0.4730651  0.52693486]\n",
      " [0.48596406 0.51403594]\n",
      " [0.5162491  0.48375088]\n",
      " [0.44281867 0.55718136]\n",
      " [0.48821133 0.5117887 ]\n",
      " [0.47597423 0.52402574]\n",
      " [0.47717255 0.5228275 ]\n",
      " [0.46222574 0.53777426]\n",
      " [0.49547282 0.5045273 ]\n",
      " [0.50492877 0.49507123]\n",
      " [0.46861273 0.5313873 ]\n",
      " [0.50944275 0.49055725]\n",
      " [0.51002145 0.4899786 ]\n",
      " [0.474501   0.5254989 ]\n",
      " [0.4475613  0.55243874]\n",
      " [0.4885648  0.5114353 ]\n",
      " [0.46100137 0.5389986 ]\n",
      " [0.49486512 0.50513494]\n",
      " [0.4598568  0.54014325]\n",
      " [0.46142864 0.5385713 ]\n",
      " [0.4651148  0.53488517]\n",
      " [0.44954997 0.55045   ]\n",
      " [0.47868705 0.52131295]\n",
      " [0.4668978  0.5331022 ]\n",
      " [0.4967717  0.50322825]\n",
      " [0.46758986 0.5324102 ]\n",
      " [0.4832123  0.5167877 ]\n",
      " [0.49052155 0.50947845]\n",
      " [0.44657117 0.5534288 ]\n",
      " [0.43321416 0.5667858 ]\n",
      " [0.5052061  0.49479395]\n",
      " [0.4467744  0.55322564]\n",
      " [0.46064398 0.53935605]\n",
      " [0.4567884  0.5432116 ]\n",
      " [0.48472932 0.5152707 ]\n",
      " [0.46038225 0.5396177 ]\n",
      " [0.46822858 0.5317714 ]\n",
      " [0.5137341  0.48626593]\n",
      " [0.4588648  0.54113513]\n",
      " [0.4576198  0.5423802 ]\n",
      " [0.47083566 0.5291643 ]\n",
      " [0.45796454 0.5420355 ]\n",
      " [0.4505386  0.54946136]\n",
      " [0.45229307 0.547707  ]\n",
      " [0.4694286  0.53057134]\n",
      " [0.4763069  0.5236931 ]\n",
      " [0.46462744 0.5353726 ]\n",
      " [0.49689472 0.5031053 ]\n",
      " [0.50049263 0.49950734]\n",
      " [0.4428251  0.5571748 ]\n",
      " [0.47521383 0.52478623]\n",
      " [0.50180924 0.49819073]\n",
      " [0.49095026 0.5090498 ]\n",
      " [0.46664137 0.53335863]\n",
      " [0.46189657 0.53810346]\n",
      " [0.4830411  0.5169589 ]\n",
      " [0.5054331  0.49456695]\n",
      " [0.47252345 0.52747655]\n",
      " [0.45112392 0.54887617]\n",
      " [0.4877237  0.5122763 ]\n",
      " [0.47065344 0.5293466 ]\n",
      " [0.4719558  0.52804416]\n",
      " [0.49507317 0.5049269 ]\n",
      " [0.43022743 0.56977254]\n",
      " [0.45848006 0.54151994]\n",
      " [0.4810775  0.51892245]\n",
      " [0.44913426 0.5508657 ]\n",
      " [0.46281928 0.53718066]\n",
      " [0.47122282 0.5287772 ]\n",
      " [0.49899828 0.5010018 ]\n",
      " [0.4779954  0.52200454]\n",
      " [0.51694506 0.4830549 ]\n",
      " [0.47046125 0.52953875]\n",
      " [0.45967922 0.54032075]\n",
      " [0.44474387 0.55525607]\n",
      " [0.44316262 0.5568374 ]\n",
      " [0.46760365 0.5323964 ]\n",
      " [0.48776788 0.5122321 ]\n",
      " [0.45459026 0.5454097 ]\n",
      " [0.4510809  0.5489191 ]\n",
      " [0.4866902  0.51330984]\n",
      " [0.48039657 0.5196034 ]\n",
      " [0.47196335 0.52803665]\n",
      " [0.45828694 0.541713  ]\n",
      " [0.4581593  0.54184073]\n",
      " [0.4803552  0.51964486]\n",
      " [0.46172342 0.5382766 ]\n",
      " [0.49192828 0.5080717 ]\n",
      " [0.46861848 0.53138155]\n",
      " [0.45980185 0.5401982 ]\n",
      " [0.4461247  0.55387527]\n",
      " [0.46074182 0.5392582 ]\n",
      " [0.47446784 0.5255321 ]\n",
      " [0.44441962 0.5555804 ]\n",
      " [0.46501806 0.53498197]\n",
      " [0.44091684 0.5590831 ]\n",
      " [0.462442   0.53755796]\n",
      " [0.45741126 0.5425887 ]\n",
      " [0.49841768 0.5015824 ]\n",
      " [0.4664071  0.5335929 ]\n",
      " [0.47147173 0.52852833]\n",
      " [0.47197145 0.52802855]\n",
      " [0.51202136 0.48797858]\n",
      " [0.46477735 0.5352226 ]\n",
      " [0.44571263 0.55428743]\n",
      " [0.45467007 0.54533   ]\n",
      " [0.4643997  0.5356003 ]\n",
      " [0.43772155 0.56227845]\n",
      " [0.45212582 0.5478742 ]\n",
      " [0.44494364 0.5550563 ]\n",
      " [0.46472085 0.5352791 ]\n",
      " [0.46151558 0.53848445]\n",
      " [0.49946406 0.5005359 ]\n",
      " [0.46538064 0.53461933]\n",
      " [0.47753972 0.5224602 ]\n",
      " [0.4507239  0.5492761 ]\n",
      " [0.4757093  0.52429074]\n",
      " [0.4760758  0.5239242 ]\n",
      " [0.4785052  0.52149487]\n",
      " [0.423552   0.576448  ]\n",
      " [0.46397272 0.5360273 ]\n",
      " [0.43484414 0.56515586]\n",
      " [0.4970442  0.50295573]\n",
      " [0.4710496  0.52895045]\n",
      " [0.4681282  0.53187174]\n",
      " [0.47923556 0.52076435]\n",
      " [0.4596099  0.54039013]\n",
      " [0.49161634 0.50838375]\n",
      " [0.47703996 0.52296007]\n",
      " [0.46607277 0.5339272 ]\n",
      " [0.48095933 0.5190407 ]\n",
      " [0.4760837  0.5239163 ]\n",
      " [0.48315585 0.51684415]\n",
      " [0.47810435 0.5218957 ]\n",
      " [0.47225344 0.5277465 ]\n",
      " [0.48350933 0.5164907 ]\n",
      " [0.4433397  0.55666023]\n",
      " [0.4938444  0.50615555]\n",
      " [0.44682035 0.5531796 ]\n",
      " [0.45379874 0.5462012 ]\n",
      " [0.48599285 0.51400715]\n",
      " [0.4794071  0.520593  ]\n",
      " [0.46558747 0.5344125 ]\n",
      " [0.45546794 0.54453206]\n",
      " [0.47514084 0.5248592 ]\n",
      " [0.4903076  0.5096924 ]\n",
      " [0.44050926 0.55949074]\n",
      " [0.48166272 0.51833725]\n",
      " [0.45913956 0.5408604 ]\n",
      " [0.49096218 0.50903785]\n",
      " [0.49461845 0.50538146]\n",
      " [0.50010306 0.49989694]\n",
      " [0.47162384 0.52837616]\n",
      " [0.46754488 0.5324551 ]\n",
      " [0.47015232 0.5298477 ]\n",
      " [0.44650382 0.5534962 ]\n",
      " [0.51260835 0.4873916 ]\n",
      " [0.48504075 0.5149593 ]\n",
      " [0.47289956 0.5271005 ]\n",
      " [0.46522087 0.5347792 ]\n",
      " [0.46524668 0.53475326]\n",
      " [0.4471197  0.5528803 ]\n",
      " [0.5084956  0.49150434]\n",
      " [0.50809443 0.49190557]\n",
      " [0.4759739  0.52402604]\n",
      " [0.47929138 0.5207086 ]\n",
      " [0.46809337 0.5319067 ]\n",
      " [0.4785071  0.5214929 ]\n",
      " [0.4596694  0.5403305 ]\n",
      " [0.45709616 0.54290384]\n",
      " [0.46085072 0.5391492 ]\n",
      " [0.45697132 0.5430287 ]\n",
      " [0.45074332 0.54925674]\n",
      " [0.448756   0.551244  ]\n",
      " [0.48084977 0.51915026]\n",
      " [0.47796035 0.52203965]\n",
      " [0.48660678 0.5133932 ]\n",
      " [0.46394223 0.53605783]\n",
      " [0.47587296 0.524127  ]\n",
      " [0.46598712 0.53401285]\n",
      " [0.46222523 0.5377748 ]\n",
      " [0.4567648  0.54323524]\n",
      " [0.46520182 0.5347982 ]\n",
      " [0.47599941 0.52400064]\n",
      " [0.4597881  0.5402119 ]\n",
      " [0.44835743 0.5516425 ]\n",
      " [0.49744835 0.5025517 ]\n",
      " [0.44761437 0.55238557]\n",
      " [0.44984046 0.5501596 ]\n",
      " [0.46057028 0.5394297 ]\n",
      " [0.44825572 0.5517443 ]\n",
      " [0.48812345 0.5118765 ]]\n"
     ]
    }
   ],
   "source": [
    "print(predictions)"
   ]
  },
  {
   "cell_type": "code",
   "execution_count": 13,
   "id": "4e5b2428-38b3-48fa-9823-af7b84706ea5",
   "metadata": {},
   "outputs": [],
   "source": [
    "true_labels = df['Label'].values"
   ]
  },
  {
   "cell_type": "code",
   "execution_count": 14,
   "id": "f8cc07d6-20a6-4935-a69b-399130b61a38",
   "metadata": {},
   "outputs": [],
   "source": [
    "accuracy = accuracy_score(true_labels, pred_labels)\n",
    "precision = precision_score(true_labels, pred_labels, average='weighted')\n",
    "recall = recall_score(true_labels, pred_labels, average='weighted')\n",
    "f1 = f1_score(true_labels, pred_labels, average='weighted')\n",
    "#extract probabilities for escape\n",
    "escape_prob = predictions[:,1]\n",
    "roc_auc = roc_auc_score(true_labels, escape_prob)"
   ]
  },
  {
   "cell_type": "code",
   "execution_count": 15,
   "id": "ddd75767-5050-4777-8fca-fff9e7d4cc24",
   "metadata": {},
   "outputs": [
    {
     "name": "stdout",
     "output_type": "stream",
     "text": [
      "              precision    recall  f1-score   support\n",
      "\n",
      "           0       0.33      0.05      0.09       101\n",
      "           1       0.48      0.90      0.63        99\n",
      "\n",
      "    accuracy                           0.47       200\n",
      "   macro avg       0.41      0.47      0.36       200\n",
      "weighted avg       0.41      0.47      0.35       200\n",
      "\n",
      "Accuracy: 0.47\n",
      "Precision: 0.4064684684684685\n",
      "Recall: 0.47\n",
      "F1 Score: 0.3537809616318601\n",
      "ROC AUC score:0.45444544454445446\n"
     ]
    }
   ],
   "source": [
    "# Print the classification report\n",
    "print(classification_report(true_labels, pred_labels))\n",
    "\n",
    "# Print the metrics\n",
    "print(f'Accuracy: {accuracy}')\n",
    "print(f'Precision: {precision}')\n",
    "print(f'Recall: {recall}')\n",
    "print(f'F1 Score: {f1}')\n",
    "print(f'ROC AUC score:{roc_auc}')"
   ]
  },
  {
   "cell_type": "code",
   "execution_count": 16,
   "id": "be8edf57-e6bf-46fb-9ef2-64e9439908d5",
   "metadata": {},
   "outputs": [
    {
     "data": {
      "image/png": "[encoded data removed]",
      "text/plain": [
       "<Figure size 640x480 with 1 Axes>"
      ]
     },
     "metadata": {},
     "output_type": "display_data"
    }
   ],
   "source": [
    "#Calculate the false positive, true positive and thresholds\n",
    "fpr, tpr, thresholds = roc_curve(true_labels, escape_prob)\n",
    "#plot the curve\n",
    "plt.figure()\n",
    "plt.plot(fpr, tpr, color='blue', lw=2, label='ROC curve (area = %0.2f)' % roc_auc)\n",
    "plt.plot([0, 1], [0, 1], color='grey', lw=2, linestyle='--')  # Diagonal line\n",
    "plt.xlim([0.0, 1.0])\n",
    "plt.ylim([0.0, 1.05])\n",
    "plt.xlabel('False Positive Rate')\n",
    "plt.ylabel('True Positive Rate')\n",
    "plt.title('Receiver Operating Characteristic (ROC) Curve')\n",
    "plt.legend(loc=\"lower right\")\n",
    "plt.show()"
   ]
  }
 ],
 "metadata": {
  "kernelspec": {
   "display_name": "Python 3 (ipykernel)",
   "language": "python",
   "name": "python3"
  },
  "language_info": {
   "codemirror_mode": {
    "name": "ipython",
    "version": 3
   },
   "file_extension": ".py",
   "mimetype": "text/x-python",
   "name": "python",
   "nbconvert_exporter": "python",
   "pygments_lexer": "ipython3",
   "version": "3.11.9"
  }
 },
 "nbformat": 4,
 "nbformat_minor": 5
}
