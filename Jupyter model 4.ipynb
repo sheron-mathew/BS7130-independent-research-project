{
 "cells": [
  {
   "cell_type": "code",
   "execution_count": 11,
   "id": "a912032e",
   "metadata": {},
   "outputs": [],
   "source": [
    "%reload_ext autoreload\n",
    "%autoreload 0\n",
    "%matplotlib inline\n",
    "import torch\n",
    "from transformers import AutoTokenizer, AutoModel, BertForSequenceClassification, TrainingArguments, Trainer\n",
    "from fastai import *\n",
    "from fastai.text.all import *\n",
    "from Bio import Seq\n",
    "from Bio.Seq import Seq\n",
    "from Bio import SeqIO\n",
    "from Bio.SeqRecord import SeqRecord\n",
    "from Bio.SeqFeature import FeatureLocation, CompoundLocation\n",
    "import networkx as nx\n",
    "from sklearn.model_selection import train_test_split\n",
    "sys.path.append(\"../../..\")\n",
    "from utils import *\n",
    "from torch.utils.data import Dataset\n"
   ]
  },
  {
   "cell_type": "code",
   "execution_count": 12,
   "id": "eaf37084",
   "metadata": {},
   "outputs": [],
   "source": [
    "model_dir = \"/home/sm1073/.cache/huggingface/hub/models--zhihan1996--DNABERT-2-117M/DNABERT-2-117M\"\n",
    "tokenizer = AutoTokenizer.from_pretrained(model_dir, trust_remote_code=True)"
   ]
  },
  {
   "cell_type": "code",
   "execution_count": 13,
   "id": "48ab9e9d",
   "metadata": {},
   "outputs": [
    {
     "name": "stderr",
     "output_type": "stream",
     "text": [
      "Some weights of BertModel were not initialized from the model checkpoint at /home/sm1073/.cache/huggingface/hub/models--zhihan1996--DNABERT-2-117M/DNABERT-2-117M and are newly initialized: ['bert.pooler.dense.bias', 'bert.pooler.dense.weight']\n",
      "You should probably TRAIN this model on a down-stream task to be able to use it for predictions and inference.\n"
     ]
    }
   ],
   "source": [
    "model = AutoModel.from_pretrained(model_dir, trust_remote_code=True)"
   ]
  },
  {
   "cell_type": "code",
   "execution_count": 14,
   "id": "d5d41bbb",
   "metadata": {},
   "outputs": [],
   "source": [
    "path = Path('/home/sm1073/Documents/independent_project/')"
   ]
  },
  {
   "cell_type": "code",
   "execution_count": 15,
   "id": "72a98f53",
   "metadata": {},
   "outputs": [
    {
     "data": {
      "text/html": [
       "<div>\n",
       "<style scoped>\n",
       "    .dataframe tbody tr th:only-of-type {\n",
       "        vertical-align: middle;\n",
       "    }\n",
       "\n",
       "    .dataframe tbody tr th {\n",
       "        vertical-align: top;\n",
       "    }\n",
       "\n",
       "    .dataframe thead th {\n",
       "        text-align: right;\n",
       "    }\n",
       "</style>\n",
       "<table border=\"1\" class=\"dataframe\">\n",
       "  <thead>\n",
       "    <tr style=\"text-align: right;\">\n",
       "      <th></th>\n",
       "      <th>GeneName</th>\n",
       "      <th>Sequence</th>\n",
       "      <th>Label</th>\n",
       "    </tr>\n",
       "  </thead>\n",
       "  <tbody>\n",
       "    <tr>\n",
       "      <th>0</th>\n",
       "      <td>ASMTL</td>\n",
       "      <td>AAGTGCGGACGCCCGGCTCCCGGCGTGGACGCCATGGTGCTGTGCCCGGTGATTGGGAAGCTGCTGCACAAGCGCGTGGTGCTGGCCAGCGCCTCCCCACGCCGTCAGGAGATCCTCAGCAACGCGGGTCTCAGGTTTGAGGTGGTCCCCTCCAAGTTTAAAGAGAAGCTGGACAAAGCCTCCTTCGCTACTCCGTATGGGTACGCCATGGAGACCGCCAAGCAGAAGGCCCTGGAGGTGGCCAACCGGCTGTACCAGAAAGACCTGCGGGCCCCCGACGTGGTCATTGGAGCGGACACGATCGTGACAGTCGGGGGGCTGATTCTGGAGAAGCCGGTGGACAAGCAGGACGCCTACAGGATGCTGTCCCGGTTGAGTGGGAGAGAACACAGCGTGTTCACAGGTGTCGCGATCGTCCACTGCTCCAGCAAAGACCATCAGCTGGACACCAGGGTCTCGGAATTCTACGAGGAAACGAAGGTGAAGTTCTCGGAGCTGTCCGAGGAGCTGCTCTGGGAATACGTCCACAGCGGGGAGCCCATGGACAAAGCTGGCGGCTACGGGATCCAGGCCCTGGGCGGCATGCTGGTGGAGTC...</td>\n",
       "      <td>1</td>\n",
       "    </tr>\n",
       "    <tr>\n",
       "      <th>1</th>\n",
       "      <td>RIBC1</td>\n",
       "      <td>CGGGCGACCGGCAAATGTCGCGAGAATACGTCCAGGCCTAACGGGATTTTCGCCTTCCGGCAGGAGTGGGACCAGGGGCGGGGACTGATGTTGCGTATACGAGGAGCGAGCTGACGACTGGCGTGGTGCCTCCGCCCCCCTTTCTTGTTGCATGGCAACAACAAACACTTGCTCCTGCGGACCAGATCCCCGGAGGAGTTGTTGCTGGGCGGAGTCAGAGCAGTTCTTGAGAGTTCAGAAACTGCCGCCGTAACCCAAGAACAAAGTTGCATGCAGAGCCAACCTAAGAGCTTCAAAATCGGGATTCCTTACTGAGAAAGATGTATAACATAAAACAGTCAACAGATACCAAGGAAGCAGCAGCCATCGAGGCTAGAAGAAATCGAGAAAAAGAGCGACAAAACCGATTCTTCAATGTGCGGAACCGAGTCATGGGGGTGGATGTCCAGGCCCTGAACAACCAGGTGGGAGACCGAAAGCGTCGGGAAGCAGCAGAAAGAAGCAAGGAGGCAGCTTATGGTACCAGCCAGGTGCAGTATGATGTGGTAGTCCAGATGTTAGAGAAGGAAGAGGCAGATCGAACACGTCAGCTGGCC...</td>\n",
       "      <td>1</td>\n",
       "    </tr>\n",
       "    <tr>\n",
       "      <th>2</th>\n",
       "      <td>MPC1L</td>\n",
       "      <td>CTGTGGCGGAAGATGAGAGATAACTTCCAGAGCAAGGAGTTCCGGGAATACGTGAGCAGCACTCACTTCTGGGGTCCCGCGTTCAGCTGGGGCCTTCCGCTGGCTGCCTTTAAAGACATGAAGGCGTCGCCGGAGATCATCAGTGGCCGCATGACAACAGCGCTCATCTTGTACTCGGCGATCTTCATGCGCTTCGCCTACCGCGTACAGCCTCGAAACCTGCTGCTGATGGCGTGCCACTGTACCAACGTGATGGCGCAGAGTGTGCAGGCCAGTC</td>\n",
       "      <td>1</td>\n",
       "    </tr>\n",
       "    <tr>\n",
       "      <th>3</th>\n",
       "      <td>DDX3X</td>\n",
       "      <td>CTTTCCCCTTACTCCGCTCCCCTCTTTTCCCTCCCTCTCCTCCCCTTCCCTCTGTTCTCTCCTCCTCTTCCCCTCCCCTCCCCCGTCCGGAGCACTCTATATTCAAGCCACCGTTTCCTGCTTCACAAAATGGCCACCGCACGCGACACCTACGGTCACGTGGCCTGCCGCCCTCTCAGTTTCGGGAATCTGCCTAGCTCCCACTAAGGGGAGGCTACCCGCGGAAGAGCGAGGGCAGATTAGACCGGAGAAATCCCACCACATCTCCAAGCCCGGGAACTGAGAGAGGAAGAAGAGTGAAGGCCAGTGTTAGGAAAAAAAAAACAAAAACAAAAAAAACGAAAAACGAAAGCTGAGTGCATAGAGTTGGAAAGGGGAGCGAATGCGTAAGGTTGGAAAGGGGGGCGAAGAGGCCTAGGTTAACATTTTCAGGCGTCTTAGCCGGTGGAAAGCGGGAGACGCAAGTTCTCGCGAGATCTCGAGAACTCCGAGGCTGAGACTAGGGTTTTAGCGGAGAGCACGGGAAGTGTAGCTCGAGAGAACTGGGACAGCATTTCGCACCCTAAGCTCCAAGGCAGGACTGCTAGGGGCGACAG...</td>\n",
       "      <td>1</td>\n",
       "    </tr>\n",
       "    <tr>\n",
       "      <th>4</th>\n",
       "      <td>HDHD1</td>\n",
       "      <td>CTCAGTGCGCGTGCGCGGGGCGGGCGGGTGCGCGCGCACTTCCTCCTCGCCCCCACCCAGACCCAGAAGGCGCCACCATGGCGGCGCCCCCGCAGCCCGTCACCCACCTCATCTTTGACATGGACGGACTTCTTCTGGATACTGAACGGCTGTATTCAGTGGTGTTTCAAGAAATATGTAATCGCTATGACAAGAAATACAGCTGGGATGTAAAGTCCCTGGTTATGGGTAAGAAGGCATTAGAGGCGGCACAGATTATAATAGACGTCTTGCAGCTCCCGATGTCCAAAGAGGAGCTGGTGGAAGAAAGCCAAACGAAGTTAAAGGAAGTGTTCCCCACGGCTGCGCTCATGCCAGGGGCGGAGAAACTCATCATCCACCTGCGGAAACATGGCATCCCCTTTGCACTGGCCACCAGCTCGGGGTCCGCGTCGTTCGATATGAAGACAAGCCGCCACAAGGAGTTCTTCAGCTTGTTTTCCCACATTGTGCTGGGAGATGACCCCGAAGTGCAGCATGGCAAGCCAGACCCGGACATCTTCCTAGCTTGTGCCAAGAGGTTCTCTCCCCCTCCTGCTATGGAGAAGTGCCTTGTC...</td>\n",
       "      <td>1</td>\n",
       "    </tr>\n",
       "  </tbody>\n",
       "</table>\n",
       "</div>"
      ],
      "text/plain": [
       "  GeneName  \\\n",
       "0    ASMTL   \n",
       "1    RIBC1   \n",
       "2    MPC1L   \n",
       "3    DDX3X   \n",
       "4    HDHD1   \n",
       "\n",
       "                                                                                                                                                                                                                                                                                                                                                                                                                                                                                                                                                                                                                  Sequence  \\\n",
       "0  AAGTGCGGACGCCCGGCTCCCGGCGTGGACGCCATGGTGCTGTGCCCGGTGATTGGGAAGCTGCTGCACAAGCGCGTGGTGCTGGCCAGCGCCTCCCCACGCCGTCAGGAGATCCTCAGCAACGCGGGTCTCAGGTTTGAGGTGGTCCCCTCCAAGTTTAAAGAGAAGCTGGACAAAGCCTCCTTCGCTACTCCGTATGGGTACGCCATGGAGACCGCCAAGCAGAAGGCCCTGGAGGTGGCCAACCGGCTGTACCAGAAAGACCTGCGGGCCCCCGACGTGGTCATTGGAGCGGACACGATCGTGACAGTCGGGGGGCTGATTCTGGAGAAGCCGGTGGACAAGCAGGACGCCTACAGGATGCTGTCCCGGTTGAGTGGGAGAGAACACAGCGTGTTCACAGGTGTCGCGATCGTCCACTGCTCCAGCAAAGACCATCAGCTGGACACCAGGGTCTCGGAATTCTACGAGGAAACGAAGGTGAAGTTCTCGGAGCTGTCCGAGGAGCTGCTCTGGGAATACGTCCACAGCGGGGAGCCCATGGACAAAGCTGGCGGCTACGGGATCCAGGCCCTGGGCGGCATGCTGGTGGAGTC...   \n",
       "1  CGGGCGACCGGCAAATGTCGCGAGAATACGTCCAGGCCTAACGGGATTTTCGCCTTCCGGCAGGAGTGGGACCAGGGGCGGGGACTGATGTTGCGTATACGAGGAGCGAGCTGACGACTGGCGTGGTGCCTCCGCCCCCCTTTCTTGTTGCATGGCAACAACAAACACTTGCTCCTGCGGACCAGATCCCCGGAGGAGTTGTTGCTGGGCGGAGTCAGAGCAGTTCTTGAGAGTTCAGAAACTGCCGCCGTAACCCAAGAACAAAGTTGCATGCAGAGCCAACCTAAGAGCTTCAAAATCGGGATTCCTTACTGAGAAAGATGTATAACATAAAACAGTCAACAGATACCAAGGAAGCAGCAGCCATCGAGGCTAGAAGAAATCGAGAAAAAGAGCGACAAAACCGATTCTTCAATGTGCGGAACCGAGTCATGGGGGTGGATGTCCAGGCCCTGAACAACCAGGTGGGAGACCGAAAGCGTCGGGAAGCAGCAGAAAGAAGCAAGGAGGCAGCTTATGGTACCAGCCAGGTGCAGTATGATGTGGTAGTCCAGATGTTAGAGAAGGAAGAGGCAGATCGAACACGTCAGCTGGCC...   \n",
       "2                                                                                                                                                                                                                                                                                                                                    CTGTGGCGGAAGATGAGAGATAACTTCCAGAGCAAGGAGTTCCGGGAATACGTGAGCAGCACTCACTTCTGGGGTCCCGCGTTCAGCTGGGGCCTTCCGCTGGCTGCCTTTAAAGACATGAAGGCGTCGCCGGAGATCATCAGTGGCCGCATGACAACAGCGCTCATCTTGTACTCGGCGATCTTCATGCGCTTCGCCTACCGCGTACAGCCTCGAAACCTGCTGCTGATGGCGTGCCACTGTACCAACGTGATGGCGCAGAGTGTGCAGGCCAGTC   \n",
       "3  CTTTCCCCTTACTCCGCTCCCCTCTTTTCCCTCCCTCTCCTCCCCTTCCCTCTGTTCTCTCCTCCTCTTCCCCTCCCCTCCCCCGTCCGGAGCACTCTATATTCAAGCCACCGTTTCCTGCTTCACAAAATGGCCACCGCACGCGACACCTACGGTCACGTGGCCTGCCGCCCTCTCAGTTTCGGGAATCTGCCTAGCTCCCACTAAGGGGAGGCTACCCGCGGAAGAGCGAGGGCAGATTAGACCGGAGAAATCCCACCACATCTCCAAGCCCGGGAACTGAGAGAGGAAGAAGAGTGAAGGCCAGTGTTAGGAAAAAAAAAACAAAAACAAAAAAAACGAAAAACGAAAGCTGAGTGCATAGAGTTGGAAAGGGGAGCGAATGCGTAAGGTTGGAAAGGGGGGCGAAGAGGCCTAGGTTAACATTTTCAGGCGTCTTAGCCGGTGGAAAGCGGGAGACGCAAGTTCTCGCGAGATCTCGAGAACTCCGAGGCTGAGACTAGGGTTTTAGCGGAGAGCACGGGAAGTGTAGCTCGAGAGAACTGGGACAGCATTTCGCACCCTAAGCTCCAAGGCAGGACTGCTAGGGGCGACAG...   \n",
       "4  CTCAGTGCGCGTGCGCGGGGCGGGCGGGTGCGCGCGCACTTCCTCCTCGCCCCCACCCAGACCCAGAAGGCGCCACCATGGCGGCGCCCCCGCAGCCCGTCACCCACCTCATCTTTGACATGGACGGACTTCTTCTGGATACTGAACGGCTGTATTCAGTGGTGTTTCAAGAAATATGTAATCGCTATGACAAGAAATACAGCTGGGATGTAAAGTCCCTGGTTATGGGTAAGAAGGCATTAGAGGCGGCACAGATTATAATAGACGTCTTGCAGCTCCCGATGTCCAAAGAGGAGCTGGTGGAAGAAAGCCAAACGAAGTTAAAGGAAGTGTTCCCCACGGCTGCGCTCATGCCAGGGGCGGAGAAACTCATCATCCACCTGCGGAAACATGGCATCCCCTTTGCACTGGCCACCAGCTCGGGGTCCGCGTCGTTCGATATGAAGACAAGCCGCCACAAGGAGTTCTTCAGCTTGTTTTCCCACATTGTGCTGGGAGATGACCCCGAAGTGCAGCATGGCAAGCCAGACCCGGACATCTTCCTAGCTTGTGCCAAGAGGTTCTCTCCCCCTCCTGCTATGGAGAAGTGCCTTGTC...   \n",
       "\n",
       "   Label  \n",
       "0      1  \n",
       "1      1  \n",
       "2      1  \n",
       "3      1  \n",
       "4      1  "
      ]
     },
     "execution_count": 15,
     "metadata": {},
     "output_type": "execute_result"
    }
   ],
   "source": [
    "df = pd.read_csv(path/'x_inactivation_genes.csv')\n",
    "df.head()"
   ]
  },
  {
   "cell_type": "code",
   "execution_count": 16,
   "id": "07fa1ab5",
   "metadata": {},
   "outputs": [],
   "source": [
    "train_df, val_df = train_test_split(df, test_size=0.2, random_state=42)"
   ]
  },
  {
   "cell_type": "code",
   "execution_count": 17,
   "id": "4f3dc969",
   "metadata": {},
   "outputs": [],
   "source": [
    "class DNADataset(Dataset):\n",
    "    def __init__(self, dataframe, tokenizer, max_len):\n",
    "        self.tokenizer = tokenizer\n",
    "        self.data = dataframe\n",
    "        self.text = dataframe.Sequence\n",
    "        self.labels = dataframe.Label\n",
    "        self.max_len = max_len\n",
    "\n",
    "    def __len__(self):\n",
    "        return len(self.text)\n",
    "\n",
    "    def __getitem__(self, index):\n",
    "        dna_sequence = str(self.text[index])\n",
    "        inputs = self.tokenizer(dna_sequence, return_tensors='pt', max_length=self.max_len, padding='max_length', truncation=True)\n",
    "        labels = self.labels[index]\n",
    "        return {\n",
    "            'input_ids': inputs['input_ids'].flatten(),\n",
    "            'attention_mask': inputs['attention_mask'].flatten(),\n",
    "            'labels': torch.tensor(labels, dtype=torch.long)\n",
    "        }"
   ]
  },
  {
   "cell_type": "code",
   "execution_count": 18,
   "id": "efbf9bd0",
   "metadata": {},
   "outputs": [],
   "source": [
    "training_args = TrainingArguments(\n",
    "    output_dir='./results',\n",
    "    num_train_epochs=3,\n",
    "    per_device_train_batch_size=8,\n",
    "    per_device_eval_batch_size=8,\n",
    "    warmup_steps=500,\n",
    "    weight_decay=0.01,\n",
    "    logging_dir='./logs',\n",
    "    logging_steps=10,\n",
    "    eval_strategy=\"steps\",\n",
    "    eval_steps=50\n",
    ")"
   ]
  },
  {
   "cell_type": "code",
   "execution_count": 19,
   "id": "0fa24e4d",
   "metadata": {},
   "outputs": [],
   "source": [
    "train_dataset = DNADataset(train_df, tokenizer, max_len=512)\n",
    "val_dataset = DNADataset(val_df, tokenizer, max_len=512)\n",
    "\n",
    "trainer = Trainer(\n",
    "    model=model,\n",
    "    args=training_args,\n",
    "    train_dataset=train_dataset,\n",
    "    eval_dataset=val_dataset,\n",
    "    tokenizer=tokenizer\n",
    ")"
   ]
  },
  {
   "cell_type": "code",
   "execution_count": 20,
   "id": "ee3f2244",
   "metadata": {},
   "outputs": [
    {
     "ename": "KeyError",
     "evalue": "132",
     "output_type": "error",
     "traceback": [
      "\u001b[0;31m---------------------------------------------------------------------------\u001b[0m",
      "\u001b[0;31mKeyError\u001b[0m                                  Traceback (most recent call last)",
      "File \u001b[0;32m~/miniconda3/lib/python3.11/site-packages/pandas/core/indexes/base.py:3790\u001b[0m, in \u001b[0;36mIndex.get_loc\u001b[0;34m(self, key)\u001b[0m\n\u001b[1;32m   3789\u001b[0m \u001b[38;5;28;01mtry\u001b[39;00m:\n\u001b[0;32m-> 3790\u001b[0m     \u001b[38;5;28;01mreturn\u001b[39;00m \u001b[38;5;28;43mself\u001b[39;49m\u001b[38;5;241;43m.\u001b[39;49m\u001b[43m_engine\u001b[49m\u001b[38;5;241;43m.\u001b[39;49m\u001b[43mget_loc\u001b[49m\u001b[43m(\u001b[49m\u001b[43mcasted_key\u001b[49m\u001b[43m)\u001b[49m\n\u001b[1;32m   3791\u001b[0m \u001b[38;5;28;01mexcept\u001b[39;00m \u001b[38;5;167;01mKeyError\u001b[39;00m \u001b[38;5;28;01mas\u001b[39;00m err:\n",
      "File \u001b[0;32mindex.pyx:152\u001b[0m, in \u001b[0;36mpandas._libs.index.IndexEngine.get_loc\u001b[0;34m()\u001b[0m\n",
      "File \u001b[0;32mindex.pyx:181\u001b[0m, in \u001b[0;36mpandas._libs.index.IndexEngine.get_loc\u001b[0;34m()\u001b[0m\n",
      "File \u001b[0;32mpandas/_libs/hashtable_class_helper.pxi:2606\u001b[0m, in \u001b[0;36mpandas._libs.hashtable.Int64HashTable.get_item\u001b[0;34m()\u001b[0m\n",
      "File \u001b[0;32mpandas/_libs/hashtable_class_helper.pxi:2630\u001b[0m, in \u001b[0;36mpandas._libs.hashtable.Int64HashTable.get_item\u001b[0;34m()\u001b[0m\n",
      "\u001b[0;31mKeyError\u001b[0m: 132",
      "\nThe above exception was the direct cause of the following exception:\n",
      "\u001b[0;31mKeyError\u001b[0m                                  Traceback (most recent call last)",
      "Cell \u001b[0;32mIn[20], line 1\u001b[0m\n\u001b[0;32m----> 1\u001b[0m \u001b[43mtrainer\u001b[49m\u001b[38;5;241;43m.\u001b[39;49m\u001b[43mtrain\u001b[49m\u001b[43m(\u001b[49m\u001b[43m)\u001b[49m\n\u001b[1;32m      2\u001b[0m results \u001b[38;5;241m=\u001b[39m trainer\u001b[38;5;241m.\u001b[39mevaluate()\n\u001b[1;32m      3\u001b[0m \u001b[38;5;28mprint\u001b[39m(results)\n",
      "File \u001b[0;32m~/miniconda3/lib/python3.11/site-packages/transformers/trainer.py:1932\u001b[0m, in \u001b[0;36mTrainer.train\u001b[0;34m(self, resume_from_checkpoint, trial, ignore_keys_for_eval, **kwargs)\u001b[0m\n\u001b[1;32m   1930\u001b[0m         hf_hub_utils\u001b[38;5;241m.\u001b[39menable_progress_bars()\n\u001b[1;32m   1931\u001b[0m \u001b[38;5;28;01melse\u001b[39;00m:\n\u001b[0;32m-> 1932\u001b[0m     \u001b[38;5;28;01mreturn\u001b[39;00m \u001b[43minner_training_loop\u001b[49m\u001b[43m(\u001b[49m\n\u001b[1;32m   1933\u001b[0m \u001b[43m        \u001b[49m\u001b[43margs\u001b[49m\u001b[38;5;241;43m=\u001b[39;49m\u001b[43margs\u001b[49m\u001b[43m,\u001b[49m\n\u001b[1;32m   1934\u001b[0m \u001b[43m        \u001b[49m\u001b[43mresume_from_checkpoint\u001b[49m\u001b[38;5;241;43m=\u001b[39;49m\u001b[43mresume_from_checkpoint\u001b[49m\u001b[43m,\u001b[49m\n\u001b[1;32m   1935\u001b[0m \u001b[43m        \u001b[49m\u001b[43mtrial\u001b[49m\u001b[38;5;241;43m=\u001b[39;49m\u001b[43mtrial\u001b[49m\u001b[43m,\u001b[49m\n\u001b[1;32m   1936\u001b[0m \u001b[43m        \u001b[49m\u001b[43mignore_keys_for_eval\u001b[49m\u001b[38;5;241;43m=\u001b[39;49m\u001b[43mignore_keys_for_eval\u001b[49m\u001b[43m,\u001b[49m\n\u001b[1;32m   1937\u001b[0m \u001b[43m    \u001b[49m\u001b[43m)\u001b[49m\n",
      "File \u001b[0;32m~/miniconda3/lib/python3.11/site-packages/transformers/trainer.py:2230\u001b[0m, in \u001b[0;36mTrainer._inner_training_loop\u001b[0;34m(self, batch_size, args, resume_from_checkpoint, trial, ignore_keys_for_eval)\u001b[0m\n\u001b[1;32m   2227\u001b[0m     rng_to_sync \u001b[38;5;241m=\u001b[39m \u001b[38;5;28;01mTrue\u001b[39;00m\n\u001b[1;32m   2229\u001b[0m step \u001b[38;5;241m=\u001b[39m \u001b[38;5;241m-\u001b[39m\u001b[38;5;241m1\u001b[39m\n\u001b[0;32m-> 2230\u001b[0m \u001b[38;5;28;01mfor\u001b[39;00m step, inputs \u001b[38;5;129;01min\u001b[39;00m \u001b[38;5;28menumerate\u001b[39m(epoch_iterator):\n\u001b[1;32m   2231\u001b[0m     total_batched_samples \u001b[38;5;241m+\u001b[39m\u001b[38;5;241m=\u001b[39m \u001b[38;5;241m1\u001b[39m\n\u001b[1;32m   2233\u001b[0m     \u001b[38;5;28;01mif\u001b[39;00m \u001b[38;5;28mself\u001b[39m\u001b[38;5;241m.\u001b[39margs\u001b[38;5;241m.\u001b[39minclude_num_input_tokens_seen:\n",
      "File \u001b[0;32m~/miniconda3/lib/python3.11/site-packages/accelerate/data_loader.py:454\u001b[0m, in \u001b[0;36mDataLoaderShard.__iter__\u001b[0;34m(self)\u001b[0m\n\u001b[1;32m    452\u001b[0m \u001b[38;5;66;03m# We iterate one batch ahead to check when we are at the end\u001b[39;00m\n\u001b[1;32m    453\u001b[0m \u001b[38;5;28;01mtry\u001b[39;00m:\n\u001b[0;32m--> 454\u001b[0m     current_batch \u001b[38;5;241m=\u001b[39m \u001b[38;5;28;43mnext\u001b[39;49m\u001b[43m(\u001b[49m\u001b[43mdataloader_iter\u001b[49m\u001b[43m)\u001b[49m\n\u001b[1;32m    455\u001b[0m \u001b[38;5;28;01mexcept\u001b[39;00m \u001b[38;5;167;01mStopIteration\u001b[39;00m:\n\u001b[1;32m    456\u001b[0m     \u001b[38;5;28;01myield\u001b[39;00m\n",
      "File \u001b[0;32m~/miniconda3/lib/python3.11/site-packages/torch/utils/data/dataloader.py:631\u001b[0m, in \u001b[0;36m_BaseDataLoaderIter.__next__\u001b[0;34m(self)\u001b[0m\n\u001b[1;32m    628\u001b[0m \u001b[38;5;28;01mif\u001b[39;00m \u001b[38;5;28mself\u001b[39m\u001b[38;5;241m.\u001b[39m_sampler_iter \u001b[38;5;129;01mis\u001b[39;00m \u001b[38;5;28;01mNone\u001b[39;00m:\n\u001b[1;32m    629\u001b[0m     \u001b[38;5;66;03m# TODO(https://github.com/pytorch/pytorch/issues/76750)\u001b[39;00m\n\u001b[1;32m    630\u001b[0m     \u001b[38;5;28mself\u001b[39m\u001b[38;5;241m.\u001b[39m_reset()  \u001b[38;5;66;03m# type: ignore[call-arg]\u001b[39;00m\n\u001b[0;32m--> 631\u001b[0m data \u001b[38;5;241m=\u001b[39m \u001b[38;5;28;43mself\u001b[39;49m\u001b[38;5;241;43m.\u001b[39;49m\u001b[43m_next_data\u001b[49m\u001b[43m(\u001b[49m\u001b[43m)\u001b[49m\n\u001b[1;32m    632\u001b[0m \u001b[38;5;28mself\u001b[39m\u001b[38;5;241m.\u001b[39m_num_yielded \u001b[38;5;241m+\u001b[39m\u001b[38;5;241m=\u001b[39m \u001b[38;5;241m1\u001b[39m\n\u001b[1;32m    633\u001b[0m \u001b[38;5;28;01mif\u001b[39;00m \u001b[38;5;28mself\u001b[39m\u001b[38;5;241m.\u001b[39m_dataset_kind \u001b[38;5;241m==\u001b[39m _DatasetKind\u001b[38;5;241m.\u001b[39mIterable \u001b[38;5;129;01mand\u001b[39;00m \\\n\u001b[1;32m    634\u001b[0m         \u001b[38;5;28mself\u001b[39m\u001b[38;5;241m.\u001b[39m_IterableDataset_len_called \u001b[38;5;129;01mis\u001b[39;00m \u001b[38;5;129;01mnot\u001b[39;00m \u001b[38;5;28;01mNone\u001b[39;00m \u001b[38;5;129;01mand\u001b[39;00m \\\n\u001b[1;32m    635\u001b[0m         \u001b[38;5;28mself\u001b[39m\u001b[38;5;241m.\u001b[39m_num_yielded \u001b[38;5;241m>\u001b[39m \u001b[38;5;28mself\u001b[39m\u001b[38;5;241m.\u001b[39m_IterableDataset_len_called:\n",
      "File \u001b[0;32m~/miniconda3/lib/python3.11/site-packages/torch/utils/data/dataloader.py:675\u001b[0m, in \u001b[0;36m_SingleProcessDataLoaderIter._next_data\u001b[0;34m(self)\u001b[0m\n\u001b[1;32m    673\u001b[0m \u001b[38;5;28;01mdef\u001b[39;00m \u001b[38;5;21m_next_data\u001b[39m(\u001b[38;5;28mself\u001b[39m):\n\u001b[1;32m    674\u001b[0m     index \u001b[38;5;241m=\u001b[39m \u001b[38;5;28mself\u001b[39m\u001b[38;5;241m.\u001b[39m_next_index()  \u001b[38;5;66;03m# may raise StopIteration\u001b[39;00m\n\u001b[0;32m--> 675\u001b[0m     data \u001b[38;5;241m=\u001b[39m \u001b[38;5;28;43mself\u001b[39;49m\u001b[38;5;241;43m.\u001b[39;49m\u001b[43m_dataset_fetcher\u001b[49m\u001b[38;5;241;43m.\u001b[39;49m\u001b[43mfetch\u001b[49m\u001b[43m(\u001b[49m\u001b[43mindex\u001b[49m\u001b[43m)\u001b[49m  \u001b[38;5;66;03m# may raise StopIteration\u001b[39;00m\n\u001b[1;32m    676\u001b[0m     \u001b[38;5;28;01mif\u001b[39;00m \u001b[38;5;28mself\u001b[39m\u001b[38;5;241m.\u001b[39m_pin_memory:\n\u001b[1;32m    677\u001b[0m         data \u001b[38;5;241m=\u001b[39m _utils\u001b[38;5;241m.\u001b[39mpin_memory\u001b[38;5;241m.\u001b[39mpin_memory(data, \u001b[38;5;28mself\u001b[39m\u001b[38;5;241m.\u001b[39m_pin_memory_device)\n",
      "File \u001b[0;32m~/miniconda3/lib/python3.11/site-packages/torch/utils/data/_utils/fetch.py:51\u001b[0m, in \u001b[0;36m_MapDatasetFetcher.fetch\u001b[0;34m(self, possibly_batched_index)\u001b[0m\n\u001b[1;32m     49\u001b[0m         data \u001b[38;5;241m=\u001b[39m \u001b[38;5;28mself\u001b[39m\u001b[38;5;241m.\u001b[39mdataset\u001b[38;5;241m.\u001b[39m__getitems__(possibly_batched_index)\n\u001b[1;32m     50\u001b[0m     \u001b[38;5;28;01melse\u001b[39;00m:\n\u001b[0;32m---> 51\u001b[0m         data \u001b[38;5;241m=\u001b[39m \u001b[43m[\u001b[49m\u001b[38;5;28;43mself\u001b[39;49m\u001b[38;5;241;43m.\u001b[39;49m\u001b[43mdataset\u001b[49m\u001b[43m[\u001b[49m\u001b[43midx\u001b[49m\u001b[43m]\u001b[49m\u001b[43m \u001b[49m\u001b[38;5;28;43;01mfor\u001b[39;49;00m\u001b[43m \u001b[49m\u001b[43midx\u001b[49m\u001b[43m \u001b[49m\u001b[38;5;129;43;01min\u001b[39;49;00m\u001b[43m \u001b[49m\u001b[43mpossibly_batched_index\u001b[49m\u001b[43m]\u001b[49m\n\u001b[1;32m     52\u001b[0m \u001b[38;5;28;01melse\u001b[39;00m:\n\u001b[1;32m     53\u001b[0m     data \u001b[38;5;241m=\u001b[39m \u001b[38;5;28mself\u001b[39m\u001b[38;5;241m.\u001b[39mdataset[possibly_batched_index]\n",
      "File \u001b[0;32m~/miniconda3/lib/python3.11/site-packages/torch/utils/data/_utils/fetch.py:51\u001b[0m, in \u001b[0;36m<listcomp>\u001b[0;34m(.0)\u001b[0m\n\u001b[1;32m     49\u001b[0m         data \u001b[38;5;241m=\u001b[39m \u001b[38;5;28mself\u001b[39m\u001b[38;5;241m.\u001b[39mdataset\u001b[38;5;241m.\u001b[39m__getitems__(possibly_batched_index)\n\u001b[1;32m     50\u001b[0m     \u001b[38;5;28;01melse\u001b[39;00m:\n\u001b[0;32m---> 51\u001b[0m         data \u001b[38;5;241m=\u001b[39m [\u001b[38;5;28;43mself\u001b[39;49m\u001b[38;5;241;43m.\u001b[39;49m\u001b[43mdataset\u001b[49m\u001b[43m[\u001b[49m\u001b[43midx\u001b[49m\u001b[43m]\u001b[49m \u001b[38;5;28;01mfor\u001b[39;00m idx \u001b[38;5;129;01min\u001b[39;00m possibly_batched_index]\n\u001b[1;32m     52\u001b[0m \u001b[38;5;28;01melse\u001b[39;00m:\n\u001b[1;32m     53\u001b[0m     data \u001b[38;5;241m=\u001b[39m \u001b[38;5;28mself\u001b[39m\u001b[38;5;241m.\u001b[39mdataset[possibly_batched_index]\n",
      "Cell \u001b[0;32mIn[17], line 13\u001b[0m, in \u001b[0;36mDNADataset.__getitem__\u001b[0;34m(self, index)\u001b[0m\n\u001b[1;32m     12\u001b[0m \u001b[38;5;28;01mdef\u001b[39;00m \u001b[38;5;21m__getitem__\u001b[39m(\u001b[38;5;28mself\u001b[39m, index):\n\u001b[0;32m---> 13\u001b[0m     dna_sequence \u001b[38;5;241m=\u001b[39m \u001b[38;5;28mstr\u001b[39m(\u001b[38;5;28;43mself\u001b[39;49m\u001b[38;5;241;43m.\u001b[39;49m\u001b[43mtext\u001b[49m\u001b[43m[\u001b[49m\u001b[43mindex\u001b[49m\u001b[43m]\u001b[49m)\n\u001b[1;32m     14\u001b[0m     inputs \u001b[38;5;241m=\u001b[39m \u001b[38;5;28mself\u001b[39m\u001b[38;5;241m.\u001b[39mtokenizer(dna_sequence, return_tensors\u001b[38;5;241m=\u001b[39m\u001b[38;5;124m'\u001b[39m\u001b[38;5;124mpt\u001b[39m\u001b[38;5;124m'\u001b[39m, max_length\u001b[38;5;241m=\u001b[39m\u001b[38;5;28mself\u001b[39m\u001b[38;5;241m.\u001b[39mmax_len, padding\u001b[38;5;241m=\u001b[39m\u001b[38;5;124m'\u001b[39m\u001b[38;5;124mmax_length\u001b[39m\u001b[38;5;124m'\u001b[39m, truncation\u001b[38;5;241m=\u001b[39m\u001b[38;5;28;01mTrue\u001b[39;00m)\n\u001b[1;32m     15\u001b[0m     labels \u001b[38;5;241m=\u001b[39m \u001b[38;5;28mself\u001b[39m\u001b[38;5;241m.\u001b[39mlabels[index]\n",
      "File \u001b[0;32m~/miniconda3/lib/python3.11/site-packages/pandas/core/series.py:1040\u001b[0m, in \u001b[0;36mSeries.__getitem__\u001b[0;34m(self, key)\u001b[0m\n\u001b[1;32m   1037\u001b[0m     \u001b[38;5;28;01mreturn\u001b[39;00m \u001b[38;5;28mself\u001b[39m\u001b[38;5;241m.\u001b[39m_values[key]\n\u001b[1;32m   1039\u001b[0m \u001b[38;5;28;01melif\u001b[39;00m key_is_scalar:\n\u001b[0;32m-> 1040\u001b[0m     \u001b[38;5;28;01mreturn\u001b[39;00m \u001b[38;5;28;43mself\u001b[39;49m\u001b[38;5;241;43m.\u001b[39;49m\u001b[43m_get_value\u001b[49m\u001b[43m(\u001b[49m\u001b[43mkey\u001b[49m\u001b[43m)\u001b[49m\n\u001b[1;32m   1042\u001b[0m \u001b[38;5;66;03m# Convert generator to list before going through hashable part\u001b[39;00m\n\u001b[1;32m   1043\u001b[0m \u001b[38;5;66;03m# (We will iterate through the generator there to check for slices)\u001b[39;00m\n\u001b[1;32m   1044\u001b[0m \u001b[38;5;28;01mif\u001b[39;00m is_iterator(key):\n",
      "File \u001b[0;32m~/miniconda3/lib/python3.11/site-packages/pandas/core/series.py:1156\u001b[0m, in \u001b[0;36mSeries._get_value\u001b[0;34m(self, label, takeable)\u001b[0m\n\u001b[1;32m   1153\u001b[0m     \u001b[38;5;28;01mreturn\u001b[39;00m \u001b[38;5;28mself\u001b[39m\u001b[38;5;241m.\u001b[39m_values[label]\n\u001b[1;32m   1155\u001b[0m \u001b[38;5;66;03m# Similar to Index.get_value, but we do not fall back to positional\u001b[39;00m\n\u001b[0;32m-> 1156\u001b[0m loc \u001b[38;5;241m=\u001b[39m \u001b[38;5;28;43mself\u001b[39;49m\u001b[38;5;241;43m.\u001b[39;49m\u001b[43mindex\u001b[49m\u001b[38;5;241;43m.\u001b[39;49m\u001b[43mget_loc\u001b[49m\u001b[43m(\u001b[49m\u001b[43mlabel\u001b[49m\u001b[43m)\u001b[49m\n\u001b[1;32m   1158\u001b[0m \u001b[38;5;28;01mif\u001b[39;00m is_integer(loc):\n\u001b[1;32m   1159\u001b[0m     \u001b[38;5;28;01mreturn\u001b[39;00m \u001b[38;5;28mself\u001b[39m\u001b[38;5;241m.\u001b[39m_values[loc]\n",
      "File \u001b[0;32m~/miniconda3/lib/python3.11/site-packages/pandas/core/indexes/base.py:3797\u001b[0m, in \u001b[0;36mIndex.get_loc\u001b[0;34m(self, key)\u001b[0m\n\u001b[1;32m   3792\u001b[0m     \u001b[38;5;28;01mif\u001b[39;00m \u001b[38;5;28misinstance\u001b[39m(casted_key, \u001b[38;5;28mslice\u001b[39m) \u001b[38;5;129;01mor\u001b[39;00m (\n\u001b[1;32m   3793\u001b[0m         \u001b[38;5;28misinstance\u001b[39m(casted_key, abc\u001b[38;5;241m.\u001b[39mIterable)\n\u001b[1;32m   3794\u001b[0m         \u001b[38;5;129;01mand\u001b[39;00m \u001b[38;5;28many\u001b[39m(\u001b[38;5;28misinstance\u001b[39m(x, \u001b[38;5;28mslice\u001b[39m) \u001b[38;5;28;01mfor\u001b[39;00m x \u001b[38;5;129;01min\u001b[39;00m casted_key)\n\u001b[1;32m   3795\u001b[0m     ):\n\u001b[1;32m   3796\u001b[0m         \u001b[38;5;28;01mraise\u001b[39;00m InvalidIndexError(key)\n\u001b[0;32m-> 3797\u001b[0m     \u001b[38;5;28;01mraise\u001b[39;00m \u001b[38;5;167;01mKeyError\u001b[39;00m(key) \u001b[38;5;28;01mfrom\u001b[39;00m \u001b[38;5;21;01merr\u001b[39;00m\n\u001b[1;32m   3798\u001b[0m \u001b[38;5;28;01mexcept\u001b[39;00m \u001b[38;5;167;01mTypeError\u001b[39;00m:\n\u001b[1;32m   3799\u001b[0m     \u001b[38;5;66;03m# If we have a listlike key, _check_indexing_error will raise\u001b[39;00m\n\u001b[1;32m   3800\u001b[0m     \u001b[38;5;66;03m#  InvalidIndexError. Otherwise we fall through and re-raise\u001b[39;00m\n\u001b[1;32m   3801\u001b[0m     \u001b[38;5;66;03m#  the TypeError.\u001b[39;00m\n\u001b[1;32m   3802\u001b[0m     \u001b[38;5;28mself\u001b[39m\u001b[38;5;241m.\u001b[39m_check_indexing_error(key)\n",
      "\u001b[0;31mKeyError\u001b[0m: 132"
     ]
    }
   ],
   "source": [
    "trainer.train()\n",
    "results = trainer.evaluate()\n",
    "print(results)"
   ]
  }
 ],
 "metadata": {
  "kernelspec": {
   "display_name": "Python 3 (ipykernel)",
   "language": "python",
   "name": "python3"
  },
  "language_info": {
   "codemirror_mode": {
    "name": "ipython",
    "version": 3
   },
   "file_extension": ".py",
   "mimetype": "text/x-python",
   "name": "python",
   "nbconvert_exporter": "python",
   "pygments_lexer": "ipython3",
   "version": "3.11.4"
  }
 },
 "nbformat": 4,
 "nbformat_minor": 5
}
